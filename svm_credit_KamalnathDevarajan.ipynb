{
 "cells": [
  {
   "cell_type": "markdown",
   "metadata": {},
   "source": [
    "# Training a Support Vector Machine on the Credit Dataset by Kamalnath Devarajan"
   ]
  },
  {
   "cell_type": "markdown",
   "metadata": {},
   "source": [
    "Train an SVM with linear and rbf kernels on the credit dataset, as well as one other kernel of your choice. Optimize the hyper-parameters and settings to try to achieve the best accuracy on the validation set and report your results. Then run your model on the test dataset. Report the accuracy. Graph and attach the classifications on the test set."
   ]
  },
  {
   "cell_type": "markdown",
   "metadata": {},
   "source": [
    "First, we import the necessary packages."
   ]
  },
  {
   "cell_type": "code",
   "execution_count": 149,
   "metadata": {},
   "outputs": [],
   "source": [
    "import numpy as np\n",
    "from sklearn.svm import SVC\n",
    "from sklearn.model_selection import train_test_split\n",
    "from sklearn.metrics import classification_report, confusion_matrix\n",
    "from sklearn.model_selection import GridSearchCV, KFold, PredefinedSplit\n",
    "from sklearn.metrics import accuracy_score\n",
    "import pandas as pd\n",
    "import matplotlib.pyplot as plt"
   ]
  },
  {
   "cell_type": "markdown",
   "metadata": {},
   "source": [
    "The credit dataset is stored in a text file named \"SVM_credit_data.txt\". Each row in the dataset corresponds to a sample, and each sample has 24 attributes/features. The last column in the dataset corresponds to the ground truth label of each sample.\n",
    "\n",
    "In total, there are 800 samples, with each sample having 24 attributes."
   ]
  },
  {
   "cell_type": "code",
   "execution_count": 150,
   "metadata": {},
   "outputs": [
    {
     "name": "stdout",
     "output_type": "stream",
     "text": [
      "[[ 1  6  4 ...  0  0  1]\n",
      " [ 2 48  2 ...  0  0  1]\n",
      " [ 4 12  4 ...  0  1  0]\n",
      " ...\n",
      " [ 4 12  4 ...  0  1  0]\n",
      " [ 4 24  3 ...  0  0  1]\n",
      " [ 2  9  2 ...  1  0  0]]\n"
     ]
    }
   ],
   "source": [
    "# Loading the credit dataset\n",
    "credit_data = pd.read_csv(\"SVM_credit_data.txt\", delim_whitespace = True, header = None)\n",
    "#print(credit_data)\n",
    "\n",
    "# Separating each sample's data and their ground truth labels and storing them in variables\n",
    "credit_target = credit_data[24].to_numpy()\n",
    "credit_data1 = credit_data.loc[:, 0:23].to_numpy()\n",
    "print(credit_data1)"
   ]
  },
  {
   "cell_type": "markdown",
   "metadata": {},
   "source": [
    "We need to split our data, according to the following proportions: \n",
    "- 70% - training set\n",
    "- 10% - validation set\n",
    "- 20% - test set"
   ]
  },
  {
   "cell_type": "code",
   "execution_count": 151,
   "metadata": {},
   "outputs": [],
   "source": [
    "X_train, X_test, y_train, y_test = train_test_split(credit_data1,\n",
    "                                                    credit_target,\n",
    "                                                    test_size=0.2,\n",
    "                                                    random_state = 42,\n",
    "                                                    shuffle=True,\n",
    "                                                    stratify = credit_target)\n",
    "\n",
    "X_train, X_val, y_train, y_val = train_test_split(X_train,\n",
    "                                                  y_train,\n",
    "                                                  test_size=0.125,\n",
    "                                                  random_state = 42,\n",
    "                                                  stratify=y_train) # 0.125 x 0.8 = 0.1"
   ]
  },
  {
   "cell_type": "markdown",
   "metadata": {},
   "source": [
    "Now that we've split our dataset into the required proportions, we can now fit our model to the training set, optimize hyperparameters on the validation set and then finally make predictions on the test set.\n",
    "\n",
    "I first decided to fit the SVM model to the training set using three different kernel functions, **linear, radial basis function (rbf)** and **sigmoid** with their default hyperparameter settings (C=1, gamma = 'scale') and then evaluated their performance on the training, validation and test sets. I didn't do any sort of hyperparameter tuning here.\n",
    "\n",
    "My goal is to compare the training, validation and test accuracies obtained before and after hyperparameter tuning and show that there is an improvement in accuracy after tuning the hyperparameters."
   ]
  },
  {
   "cell_type": "markdown",
   "metadata": {},
   "source": [
    "#### SVM - Linear Kernel without hyperparameter tuning"
   ]
  },
  {
   "cell_type": "code",
   "execution_count": 152,
   "metadata": {},
   "outputs": [
    {
     "name": "stdout",
     "output_type": "stream",
     "text": [
      "Training set accuracy for linear kernel =  0.7892857142857143\n",
      "Validation set accuracy for linear kernel =  0.75\n",
      "Test set accuracy for linear kernel =  0.75625\n"
     ]
    }
   ],
   "source": [
    "svc_linear1 = SVC(kernel = 'linear', C = 1)\n",
    "svc_linear1.fit(X_train, y_train)\n",
    "#print(svc_linear.predict(X_test))\n",
    "#print(classification_report(y_val, svc_linear.predict(X_val)))\n",
    "print(\"Training set accuracy for linear kernel = \", accuracy_score(y_train, svc_linear1.predict(X_train)))\n",
    "print(\"Validation set accuracy for linear kernel = \", accuracy_score(y_val, svc_linear1.predict(X_val)))\n",
    "print(\"Test set accuracy for linear kernel = \", accuracy_score(y_test, svc_linear1.predict(X_test)))"
   ]
  },
  {
   "cell_type": "markdown",
   "metadata": {},
   "source": [
    "#### SVM - rbf Kernel without hyperparameter tuning"
   ]
  },
  {
   "cell_type": "code",
   "execution_count": 153,
   "metadata": {},
   "outputs": [
    {
     "name": "stdout",
     "output_type": "stream",
     "text": [
      "Training set accuracy for rbf kernel =  0.7125\n",
      "Validation set accuracy for rbf kernel =  0.7125\n",
      "Test set accuracy for rbf kernel =  0.70625\n"
     ]
    }
   ],
   "source": [
    "svc_rbf1 = SVC(kernel = 'rbf', C = 1, gamma = 'scale')\n",
    "svc_rbf1.fit(X_train, y_train)\n",
    "#print(svc_rbf.predict(X_test))\n",
    "#print(classification_report(y_val, svc_rbf.predict(X_val))) \n",
    "print(\"Training set accuracy for rbf kernel = \", accuracy_score(y_train, svc_rbf1.predict(X_train)))\n",
    "print(\"Validation set accuracy for rbf kernel = \", accuracy_score(y_val, svc_rbf1.predict(X_val)))\n",
    "print(\"Test set accuracy for rbf kernel = \", accuracy_score(y_test, svc_rbf1.predict(X_test)))"
   ]
  },
  {
   "cell_type": "markdown",
   "metadata": {},
   "source": [
    "#### SVM - Sigmoid Kernel without hyperparameter tuning"
   ]
  },
  {
   "cell_type": "code",
   "execution_count": 154,
   "metadata": {},
   "outputs": [
    {
     "name": "stdout",
     "output_type": "stream",
     "text": [
      "Training set accuracy for sigmoid kernel =  0.6678571428571428\n",
      "Validation set accuracy for sigmoid kernel =  0.55\n",
      "Test set accuracy for sigmoid kernel =  0.64375\n"
     ]
    }
   ],
   "source": [
    "svc_sig1 = SVC(kernel = 'sigmoid', C = 1, gamma = 'scale')\n",
    "svc_sig1.fit(X_train, y_train)\n",
    "#print(svc_sig.predict(X_test))\n",
    "#print(classification_report(y_val, svc_sig.predict(X_val)))\n",
    "print(\"Training set accuracy for sigmoid kernel = \", accuracy_score(y_train, svc_sig1.predict(X_train)))\n",
    "print(\"Validation set accuracy for sigmoid kernel = \", accuracy_score(y_val, svc_sig1.predict(X_val)))\n",
    "print(\"Test set accuracy for sigmoid kernel = \", accuracy_score(y_test, svc_sig1.predict(X_test)))"
   ]
  },
  {
   "cell_type": "markdown",
   "metadata": {},
   "source": [
    "Let's now tune our hyperparameters to obtain some improvement in the accuracy of our train, validation and test sets. We first use the GridSearchCV() function to look for optimal parameters for each kernel. We then fit our model again to the training set with these newly obtained parameters for each kernel and predict and evaluate the performance on the test set, to see if there is an improvement in performance after hyperparameter tuning."
   ]
  },
  {
   "cell_type": "markdown",
   "metadata": {},
   "source": [
    "#### Grid Search for hyperparameters for Linear Kernel"
   ]
  },
  {
   "cell_type": "code",
   "execution_count": 155,
   "metadata": {},
   "outputs": [
    {
     "name": "stdout",
     "output_type": "stream",
     "text": [
      "Fitting 1 folds for each of 4 candidates, totalling 4 fits\n",
      "[CV] C=0.1, kernel=linear ............................................\n",
      "[CV] ................ C=0.1, kernel=linear, score=0.775, total=   0.0s\n",
      "[CV] C=1, kernel=linear ..............................................\n"
     ]
    },
    {
     "name": "stderr",
     "output_type": "stream",
     "text": [
      "[Parallel(n_jobs=1)]: Using backend SequentialBackend with 1 concurrent workers.\n",
      "[Parallel(n_jobs=1)]: Done   1 out of   1 | elapsed:    0.0s remaining:    0.0s\n"
     ]
    },
    {
     "name": "stdout",
     "output_type": "stream",
     "text": [
      "[CV] .................. C=1, kernel=linear, score=0.750, total=   0.3s\n",
      "[CV] C=10, kernel=linear .............................................\n"
     ]
    },
    {
     "name": "stderr",
     "output_type": "stream",
     "text": [
      "[Parallel(n_jobs=1)]: Done   2 out of   2 | elapsed:    0.3s remaining:    0.0s\n"
     ]
    },
    {
     "name": "stdout",
     "output_type": "stream",
     "text": [
      "[CV] ................. C=10, kernel=linear, score=0.775, total=   2.4s\n",
      "[CV] C=100, kernel=linear ............................................\n",
      "[CV] ................ C=100, kernel=linear, score=0.775, total=  32.0s\n",
      "{'C': 0.1, 'kernel': 'linear'}\n",
      "SVC(C=0.1, kernel='linear')\n"
     ]
    },
    {
     "name": "stderr",
     "output_type": "stream",
     "text": [
      "[Parallel(n_jobs=1)]: Done   4 out of   4 | elapsed:   34.6s finished\n"
     ]
    }
   ],
   "source": [
    "#Grid Search for Linear kernel\n",
    "\n",
    "param_grid = [\n",
    "  {'C': [0.1, 1, 10, 100], 'kernel': ['linear']}]\n",
    "              \n",
    "my_test_fold = []\n",
    "\n",
    "# put -1 here, so they will be in training set\n",
    "for i in range(len(X_train)):\n",
    "    my_test_fold.append(-1)\n",
    "\n",
    "# for all greater indices, assign 0, so they will be put in validation set\n",
    "for i in range(len(X_val)):\n",
    "    my_test_fold.append(0)\n",
    "\n",
    "pds = PredefinedSplit(test_fold = my_test_fold)\n",
    "\n",
    "grid = GridSearchCV(SVC(), param_grid, refit = True, verbose = 3, cv=pds) \n",
    "\n",
    "# fitting the model for grid search \n",
    "grid.fit(np.concatenate((X_train, X_val), axis=0), np.concatenate((y_train, y_val), axis=0))\n",
    "\n",
    "# print best parameter after tuning \n",
    "print(grid.best_params_) \n",
    "  \n",
    "# print how our model looks after hyper-parameter tuning \n",
    "print(grid.best_estimator_)"
   ]
  },
  {
   "cell_type": "markdown",
   "metadata": {},
   "source": [
    "We have successfully found the optimal hyperparameters for the linear kernel. Let's know fit the model on the training set using these parameters and evaluate the performance on the train, test and validation sets."
   ]
  },
  {
   "cell_type": "markdown",
   "metadata": {},
   "source": [
    "#### SVM - Linear Kernel after hyperparameter tuning"
   ]
  },
  {
   "cell_type": "code",
   "execution_count": 156,
   "metadata": {},
   "outputs": [
    {
     "name": "stdout",
     "output_type": "stream",
     "text": [
      "Training set accuracy for linear kernel =  0.7821428571428571\n",
      "Validation set accuracy for linear kernel after hyperparameter tuning = 0.775\n",
      "Test set accuracy for linear kernel after hyperparameter tuning = 0.75\n"
     ]
    }
   ],
   "source": [
    "svc_linear = grid.best_estimator_\n",
    "\n",
    "svc_linear.fit(X_train, y_train)\n",
    "#svc_linear.fit(np.concatenate((X_train, X_val), axis=0), np.concatenate((y_train, y_val), axis=0))\n",
    "\n",
    "print(\"Training set accuracy for linear kernel = \", accuracy_score(y_train, svc_linear.predict(X_train)))\n",
    "\n",
    "SVM_predictions_val_lin = svc_linear.predict(X_val)\n",
    "print(\"Validation set accuracy for linear kernel after hyperparameter tuning =\", accuracy_score(y_val, SVM_predictions_val_lin))\n",
    "\n",
    "SVM_predictions_test_lin = svc_linear.predict(X_test) \n",
    "print(\"Test set accuracy for linear kernel after hyperparameter tuning =\", accuracy_score(y_test, SVM_predictions_test_lin))"
   ]
  },
  {
   "cell_type": "markdown",
   "metadata": {},
   "source": [
    "We follow the same procedure as above for the other two kernels"
   ]
  },
  {
   "cell_type": "markdown",
   "metadata": {},
   "source": [
    "#### Grid Search for hyperparameters for rbf Kernel"
   ]
  },
  {
   "cell_type": "code",
   "execution_count": 157,
   "metadata": {},
   "outputs": [
    {
     "name": "stdout",
     "output_type": "stream",
     "text": [
      "Fitting 1 folds for each of 54 candidates, totalling 54 fits\n",
      "[CV] C=0.0001, gamma=1, kernel=rbf ...................................\n",
      "[CV] ....... C=0.0001, gamma=1, kernel=rbf, score=0.700, total=   0.0s\n",
      "[CV] C=0.0001, gamma=0.1, kernel=rbf .................................\n",
      "[CV] ..... C=0.0001, gamma=0.1, kernel=rbf, score=0.700, total=   0.0s\n",
      "[CV] C=0.0001, gamma=0.01, kernel=rbf ................................\n",
      "[CV] .... C=0.0001, gamma=0.01, kernel=rbf, score=0.700, total=   0.0s\n",
      "[CV] C=0.0001, gamma=0.001, kernel=rbf ...............................\n",
      "[CV] ... C=0.0001, gamma=0.001, kernel=rbf, score=0.700, total=   0.0s\n",
      "[CV] C=0.0001, gamma=0.0001, kernel=rbf ..............................\n",
      "[CV] .. C=0.0001, gamma=0.0001, kernel=rbf, score=0.700, total=   0.0s\n",
      "[CV] C=0.0001, gamma=1e-05, kernel=rbf ...............................\n",
      "[CV] ... C=0.0001, gamma=1e-05, kernel=rbf, score=0.700, total=   0.0s\n",
      "[CV] C=0.001, gamma=1, kernel=rbf ....................................\n",
      "[CV] ........ C=0.001, gamma=1, kernel=rbf, score=0.700, total=   0.0s\n",
      "[CV] C=0.001, gamma=0.1, kernel=rbf ..................................\n",
      "[CV] ...... C=0.001, gamma=0.1, kernel=rbf, score=0.700, total=   0.0s\n",
      "[CV] C=0.001, gamma=0.01, kernel=rbf .................................\n",
      "[CV] ..... C=0.001, gamma=0.01, kernel=rbf, score=0.700, total=   0.0s\n",
      "[CV] C=0.001, gamma=0.001, kernel=rbf ................................\n",
      "[CV] .... C=0.001, gamma=0.001, kernel=rbf, score=0.700, total=   0.0s\n",
      "[CV] C=0.001, gamma=0.0001, kernel=rbf ...............................\n",
      "[CV] ... C=0.001, gamma=0.0001, kernel=rbf, score=0.700, total=   0.0s\n",
      "[CV] C=0.001, gamma=1e-05, kernel=rbf ................................\n",
      "[CV] .... C=0.001, gamma=1e-05, kernel=rbf, score=0.700, total=   0.0s\n",
      "[CV] C=0.01, gamma=1, kernel=rbf .....................................\n",
      "[CV] ......... C=0.01, gamma=1, kernel=rbf, score=0.700, total=   0.0s\n",
      "[CV] C=0.01, gamma=0.1, kernel=rbf ...................................\n",
      "[CV] ....... C=0.01, gamma=0.1, kernel=rbf, score=0.700, total=   0.0s\n",
      "[CV] C=0.01, gamma=0.01, kernel=rbf ..................................\n",
      "[CV] ...... C=0.01, gamma=0.01, kernel=rbf, score=0.700, total=   0.0s\n",
      "[CV] C=0.01, gamma=0.001, kernel=rbf .................................\n"
     ]
    },
    {
     "name": "stderr",
     "output_type": "stream",
     "text": [
      "[Parallel(n_jobs=1)]: Using backend SequentialBackend with 1 concurrent workers.\n",
      "[Parallel(n_jobs=1)]: Done   1 out of   1 | elapsed:    0.0s remaining:    0.0s\n",
      "[Parallel(n_jobs=1)]: Done   2 out of   2 | elapsed:    0.0s remaining:    0.0s\n"
     ]
    },
    {
     "name": "stdout",
     "output_type": "stream",
     "text": [
      "[CV] ..... C=0.01, gamma=0.001, kernel=rbf, score=0.700, total=   0.0s\n",
      "[CV] C=0.01, gamma=0.0001, kernel=rbf ................................\n",
      "[CV] .... C=0.01, gamma=0.0001, kernel=rbf, score=0.700, total=   0.0s\n",
      "[CV] C=0.01, gamma=1e-05, kernel=rbf .................................\n",
      "[CV] ..... C=0.01, gamma=1e-05, kernel=rbf, score=0.700, total=   0.0s\n",
      "[CV] C=0.1, gamma=1, kernel=rbf ......................................\n",
      "[CV] .......... C=0.1, gamma=1, kernel=rbf, score=0.700, total=   0.0s\n",
      "[CV] C=0.1, gamma=0.1, kernel=rbf ....................................\n",
      "[CV] ........ C=0.1, gamma=0.1, kernel=rbf, score=0.700, total=   0.0s\n",
      "[CV] C=0.1, gamma=0.01, kernel=rbf ...................................\n",
      "[CV] ....... C=0.1, gamma=0.01, kernel=rbf, score=0.700, total=   0.0s\n",
      "[CV] C=0.1, gamma=0.001, kernel=rbf ..................................\n",
      "[CV] ...... C=0.1, gamma=0.001, kernel=rbf, score=0.700, total=   0.0s\n",
      "[CV] C=0.1, gamma=0.0001, kernel=rbf .................................\n",
      "[CV] ..... C=0.1, gamma=0.0001, kernel=rbf, score=0.700, total=   0.0s\n",
      "[CV] C=0.1, gamma=1e-05, kernel=rbf ..................................\n",
      "[CV] ...... C=0.1, gamma=1e-05, kernel=rbf, score=0.700, total=   0.0s\n",
      "[CV] C=1, gamma=1, kernel=rbf ........................................\n",
      "[CV] ............ C=1, gamma=1, kernel=rbf, score=0.700, total=   0.0s\n",
      "[CV] C=1, gamma=0.1, kernel=rbf ......................................\n",
      "[CV] .......... C=1, gamma=0.1, kernel=rbf, score=0.700, total=   0.0s\n",
      "[CV] C=1, gamma=0.01, kernel=rbf .....................................\n",
      "[CV] ......... C=1, gamma=0.01, kernel=rbf, score=0.700, total=   0.0s\n",
      "[CV] C=1, gamma=0.001, kernel=rbf ....................................\n",
      "[CV] ........ C=1, gamma=0.001, kernel=rbf, score=0.713, total=   0.0s\n",
      "[CV] C=1, gamma=0.0001, kernel=rbf ...................................\n",
      "[CV] ....... C=1, gamma=0.0001, kernel=rbf, score=0.725, total=   0.0s\n",
      "[CV] C=1, gamma=1e-05, kernel=rbf ....................................\n",
      "[CV] ........ C=1, gamma=1e-05, kernel=rbf, score=0.700, total=   0.0s\n",
      "[CV] C=10, gamma=1, kernel=rbf .......................................\n",
      "[CV] ........... C=10, gamma=1, kernel=rbf, score=0.700, total=   0.0s\n",
      "[CV] C=10, gamma=0.1, kernel=rbf .....................................\n",
      "[CV] ......... C=10, gamma=0.1, kernel=rbf, score=0.725, total=   0.0s\n",
      "[CV] C=10, gamma=0.01, kernel=rbf ....................................\n",
      "[CV] ........ C=10, gamma=0.01, kernel=rbf, score=0.725, total=   0.0s\n",
      "[CV] C=10, gamma=0.001, kernel=rbf ...................................\n",
      "[CV] ....... C=10, gamma=0.001, kernel=rbf, score=0.725, total=   0.0s\n",
      "[CV] C=10, gamma=0.0001, kernel=rbf ..................................\n",
      "[CV] ...... C=10, gamma=0.0001, kernel=rbf, score=0.713, total=   0.0s\n",
      "[CV] C=10, gamma=1e-05, kernel=rbf ...................................\n",
      "[CV] ....... C=10, gamma=1e-05, kernel=rbf, score=0.700, total=   0.0s\n",
      "[CV] C=100, gamma=1, kernel=rbf ......................................\n",
      "[CV] .......... C=100, gamma=1, kernel=rbf, score=0.700, total=   0.0s\n",
      "[CV] C=100, gamma=0.1, kernel=rbf ....................................\n",
      "[CV] ........ C=100, gamma=0.1, kernel=rbf, score=0.725, total=   0.0s\n",
      "[CV] C=100, gamma=0.01, kernel=rbf ...................................\n",
      "[CV] ....... C=100, gamma=0.01, kernel=rbf, score=0.713, total=   0.0s\n",
      "[CV] C=100, gamma=0.001, kernel=rbf ..................................\n",
      "[CV] ...... C=100, gamma=0.001, kernel=rbf, score=0.775, total=   0.0s\n",
      "[CV] C=100, gamma=0.0001, kernel=rbf .................................\n",
      "[CV] ..... C=100, gamma=0.0001, kernel=rbf, score=0.738, total=   0.0s\n",
      "[CV] C=100, gamma=1e-05, kernel=rbf ..................................\n",
      "[CV] ...... C=100, gamma=1e-05, kernel=rbf, score=0.713, total=   0.0s\n",
      "[CV] C=1000, gamma=1, kernel=rbf .....................................\n",
      "[CV] ......... C=1000, gamma=1, kernel=rbf, score=0.700, total=   0.0s\n",
      "[CV] C=1000, gamma=0.1, kernel=rbf ...................................\n",
      "[CV] ....... C=1000, gamma=0.1, kernel=rbf, score=0.725, total=   0.0s\n",
      "[CV] C=1000, gamma=0.01, kernel=rbf ..................................\n",
      "[CV] ...... C=1000, gamma=0.01, kernel=rbf, score=0.700, total=   0.0s\n",
      "[CV] C=1000, gamma=0.001, kernel=rbf .................................\n",
      "[CV] ..... C=1000, gamma=0.001, kernel=rbf, score=0.750, total=   0.1s\n",
      "[CV] C=1000, gamma=0.0001, kernel=rbf ................................\n",
      "[CV] .... C=1000, gamma=0.0001, kernel=rbf, score=0.775, total=   0.0s\n",
      "[CV] C=1000, gamma=1e-05, kernel=rbf .................................\n",
      "[CV] ..... C=1000, gamma=1e-05, kernel=rbf, score=0.750, total=   0.0s\n",
      "[CV] C=10000, gamma=1, kernel=rbf ....................................\n",
      "[CV] ........ C=10000, gamma=1, kernel=rbf, score=0.700, total=   0.0s\n",
      "[CV] C=10000, gamma=0.1, kernel=rbf ..................................\n",
      "[CV] ...... C=10000, gamma=0.1, kernel=rbf, score=0.725, total=   0.0s\n",
      "[CV] C=10000, gamma=0.01, kernel=rbf .................................\n",
      "[CV] ..... C=10000, gamma=0.01, kernel=rbf, score=0.700, total=   0.0s\n",
      "[CV] C=10000, gamma=0.001, kernel=rbf ................................\n",
      "[CV] .... C=10000, gamma=0.001, kernel=rbf, score=0.738, total=   0.2s\n",
      "[CV] C=10000, gamma=0.0001, kernel=rbf ...............................\n",
      "[CV] ... C=10000, gamma=0.0001, kernel=rbf, score=0.800, total=   0.2s\n",
      "[CV] C=10000, gamma=1e-05, kernel=rbf ................................\n",
      "[CV] .... C=10000, gamma=1e-05, kernel=rbf, score=0.738, total=   0.0s\n",
      "{'C': 10000, 'gamma': 0.0001, 'kernel': 'rbf'}\n",
      "SVC(C=10000, gamma=0.0001)\n"
     ]
    },
    {
     "name": "stderr",
     "output_type": "stream",
     "text": [
      "[Parallel(n_jobs=1)]: Done  54 out of  54 | elapsed:    1.1s finished\n"
     ]
    }
   ],
   "source": [
    "#Grid Search for rbf kernel\n",
    "\n",
    "param_grid = {'C': [0.0001, 0.001, 0.01, 0.1, 1, 10, 100, 1000, 10000], 'gamma': [1, 0.1, 0.01, 0.001, 0.0001, 0.00001], 'kernel': ['rbf']}\n",
    "\n",
    "my_test_fold = []\n",
    "\n",
    "# put -1 here, so they will be in training set\n",
    "for i in range(len(X_train)):\n",
    "    my_test_fold.append(-1)\n",
    "\n",
    "# for all greater indices, assign 0, so they will be put in validation set\n",
    "for i in range(len(X_val)):\n",
    "    my_test_fold.append(0)\n",
    "\n",
    "pds = PredefinedSplit(test_fold = my_test_fold)\n",
    "\n",
    "grid = GridSearchCV(SVC(), param_grid, refit = True, verbose = 3, cv=pds) \n",
    "\n",
    "# fitting the model for grid search \n",
    "grid.fit(np.concatenate((X_train, X_val), axis=0), np.concatenate((y_train, y_val), axis=0))\n",
    "\n",
    "# print best parameter after tuning \n",
    "print(grid.best_params_) \n",
    "  \n",
    "# print how our model looks after hyper-parameter tuning \n",
    "print(grid.best_estimator_)"
   ]
  },
  {
   "cell_type": "markdown",
   "metadata": {},
   "source": [
    "#### SVM - rbf Kernel after hyperparameter tuning"
   ]
  },
  {
   "cell_type": "code",
   "execution_count": 158,
   "metadata": {},
   "outputs": [
    {
     "name": "stdout",
     "output_type": "stream",
     "text": [
      "Training set accuracy for rbf kernel =  0.8732142857142857\n",
      "Validation set accuracy for rbf kernel after hyperparameter tuning = 0.8\n",
      "Test set accuracy for rbf kernel after hyperparameter tuning = 0.75625\n"
     ]
    }
   ],
   "source": [
    "svc_rbf = grid.best_estimator_\n",
    "svc_rbf.fit(X_train, y_train)\n",
    "#svc_linear.fit(np.concatenate((X_train, X_val), axis=0), np.concatenate((y_train, y_val), axis=0))\n",
    "\n",
    "print(\"Training set accuracy for rbf kernel = \", accuracy_score(y_train, svc_rbf.predict(X_train)))\n",
    "SVM_predictions_val_rbf = svc_rbf.predict(X_val)\n",
    "print(\"Validation set accuracy for rbf kernel after hyperparameter tuning =\", accuracy_score(y_val, SVM_predictions_val_rbf))\n",
    "  \n",
    "SVM_predictions_test_rbf = svc_rbf.predict(X_test) \n",
    "print(\"Test set accuracy for rbf kernel after hyperparameter tuning =\", accuracy_score(y_test, SVM_predictions_test_rbf))"
   ]
  },
  {
   "cell_type": "markdown",
   "metadata": {},
   "source": [
    "#### Grid Search for hyperparameters for Sigmoid Kernel"
   ]
  },
  {
   "cell_type": "code",
   "execution_count": 159,
   "metadata": {},
   "outputs": [
    {
     "name": "stdout",
     "output_type": "stream",
     "text": [
      "Fitting 1 folds for each of 16 candidates, totalling 16 fits\n",
      "[CV] C=0.01, gamma=1, kernel=sigmoid .................................\n",
      "[CV] ..... C=0.01, gamma=1, kernel=sigmoid, score=0.700, total=   0.0s\n",
      "[CV] C=0.01, gamma=0.1, kernel=sigmoid ...............................\n",
      "[CV] ... C=0.01, gamma=0.1, kernel=sigmoid, score=0.700, total=   0.0s\n",
      "[CV] C=0.01, gamma=0.01, kernel=sigmoid ..............................\n",
      "[CV] .. C=0.01, gamma=0.01, kernel=sigmoid, score=0.700, total=   0.0s\n",
      "[CV] C=0.01, gamma=0.001, kernel=sigmoid .............................\n",
      "[CV] . C=0.01, gamma=0.001, kernel=sigmoid, score=0.700, total=   0.0s\n",
      "[CV] C=0.1, gamma=1, kernel=sigmoid ..................................\n",
      "[CV] ...... C=0.1, gamma=1, kernel=sigmoid, score=0.700, total=   0.0s\n",
      "[CV] C=0.1, gamma=0.1, kernel=sigmoid ................................\n",
      "[CV] .... C=0.1, gamma=0.1, kernel=sigmoid, score=0.700, total=   0.0s\n",
      "[CV] C=0.1, gamma=0.01, kernel=sigmoid ...............................\n",
      "[CV] ... C=0.1, gamma=0.01, kernel=sigmoid, score=0.700, total=   0.0s\n",
      "[CV] C=0.1, gamma=0.001, kernel=sigmoid ..............................\n",
      "[CV] .. C=0.1, gamma=0.001, kernel=sigmoid, score=0.700, total=   0.0s\n",
      "[CV] C=1, gamma=1, kernel=sigmoid ....................................\n",
      "[CV] ........ C=1, gamma=1, kernel=sigmoid, score=0.700, total=   0.0s\n",
      "[CV] C=1, gamma=0.1, kernel=sigmoid ..................................\n",
      "[CV] ...... C=1, gamma=0.1, kernel=sigmoid, score=0.700, total=   0.0s\n",
      "[CV] C=1, gamma=0.01, kernel=sigmoid .................................\n",
      "[CV] ..... C=1, gamma=0.01, kernel=sigmoid, score=0.700, total=   0.0s\n",
      "[CV] C=1, gamma=0.001, kernel=sigmoid ................................\n",
      "[CV] .... C=1, gamma=0.001, kernel=sigmoid, score=0.588, total=   0.0s\n",
      "[CV] C=10, gamma=1, kernel=sigmoid ...................................\n",
      "[CV] ....... C=10, gamma=1, kernel=sigmoid, score=0.700, total=   0.0s\n",
      "[CV] C=10, gamma=0.1, kernel=sigmoid .................................\n",
      "[CV] ..... C=10, gamma=0.1, kernel=sigmoid, score=0.700, total=   0.0s\n",
      "[CV] C=10, gamma=0.01, kernel=sigmoid ................................\n",
      "[CV] .... C=10, gamma=0.01, kernel=sigmoid, score=0.700, total=   0.0s\n",
      "[CV] C=10, gamma=0.001, kernel=sigmoid ...............................\n",
      "[CV] ... C=10, gamma=0.001, kernel=sigmoid, score=0.588, total=   0.0s\n",
      "{'C': 0.01, 'gamma': 1, 'kernel': 'sigmoid'}\n",
      "SVC(C=0.01, gamma=1, kernel='sigmoid')\n"
     ]
    },
    {
     "name": "stderr",
     "output_type": "stream",
     "text": [
      "[Parallel(n_jobs=1)]: Using backend SequentialBackend with 1 concurrent workers.\n",
      "[Parallel(n_jobs=1)]: Done   1 out of   1 | elapsed:    0.0s remaining:    0.0s\n",
      "[Parallel(n_jobs=1)]: Done   2 out of   2 | elapsed:    0.0s remaining:    0.0s\n",
      "[Parallel(n_jobs=1)]: Done  16 out of  16 | elapsed:    0.0s finished\n"
     ]
    }
   ],
   "source": [
    "# Grid Search for Sigmoid\n",
    "\n",
    "param_grid = {'C': [0.01, 0.1, 1, 10], 'gamma': [1, 0.1, 0.01, 0.001], 'kernel': ['sigmoid']}\n",
    "\n",
    "my_test_fold = []\n",
    "\n",
    "# put -1 here, so they will be in training set\n",
    "for i in range(len(X_train)):\n",
    "    my_test_fold.append(-1)\n",
    "\n",
    "# for all greater indices, assign 0, so they will be put in validation set\n",
    "for i in range(len(X_val)):\n",
    "    my_test_fold.append(0)\n",
    "\n",
    "pds = PredefinedSplit(test_fold = my_test_fold)\n",
    "\n",
    "grid = GridSearchCV(SVC(), param_grid, refit = True, verbose = 3, cv=pds)  \n",
    "\n",
    "# fitting the model for grid search \n",
    "grid.fit(np.concatenate((X_train, X_val), axis=0), np.concatenate((y_train, y_val), axis=0))\n",
    "\n",
    "# print best parameter after tuning \n",
    "print(grid.best_params_) \n",
    "  \n",
    "# print how our model looks after hyper-parameter tuning \n",
    "print(grid.best_estimator_)"
   ]
  },
  {
   "cell_type": "markdown",
   "metadata": {},
   "source": [
    "#### SVM - Sigmoid Kernel after hyperparameter tuning"
   ]
  },
  {
   "cell_type": "code",
   "execution_count": 160,
   "metadata": {},
   "outputs": [
    {
     "name": "stdout",
     "output_type": "stream",
     "text": [
      "Training set accuracy for sigmoid kernel =  0.7017857142857142\n",
      "Validation set accuracy for sigmoid kernel after hyperparameter tuning = 0.7\n",
      "Test set accuracy for sigmoid kernel after hyperparameter tuning = 0.7\n"
     ]
    }
   ],
   "source": [
    "svc_sig = grid.best_estimator_\n",
    "#svc_linear = SVC(C=100, gamma=0.0001, kernel = 'rbf')\n",
    "\n",
    "svc_sig.fit(X_train, y_train)\n",
    "#svc_linear.fit(np.concatenate((X_train, X_val), axis=0), np.concatenate((y_train, y_val), axis=0))\n",
    "\n",
    "print(\"Training set accuracy for sigmoid kernel = \", accuracy_score(y_train, svc_sig.predict(X_train)))\n",
    "SVM_predictions_val_sig = svc_sig.predict(X_val)\n",
    "print(\"Validation set accuracy for sigmoid kernel after hyperparameter tuning =\", accuracy_score(y_val, SVM_predictions_val_sig))\n",
    "\n",
    "SVM_predictions_test_sig = svc_sig.predict(X_test) \n",
    "print(\"Test set accuracy for sigmoid kernel after hyperparameter tuning =\", accuracy_score(y_test, SVM_predictions_test_sig))"
   ]
  },
  {
   "cell_type": "markdown",
   "metadata": {},
   "source": [
    "The table below summarizes the accuracies obtained before and after hyperparameter tuning for all the sets"
   ]
  },
  {
   "cell_type": "code",
   "execution_count": 161,
   "metadata": {},
   "outputs": [
    {
     "name": "stdout",
     "output_type": "stream",
     "text": [
      "                     Linear (bef. param. tuning)  \\\n",
      "Training Accuracy                       0.789286   \n",
      "Validation Accuracy                     0.750000   \n",
      "Test Accuracy                           0.756250   \n",
      "\n",
      "                     Linear (after. param. tuning)  rbf (bef. param. tuning)  \\\n",
      "Training Accuracy                         0.782143                   0.71250   \n",
      "Validation Accuracy                       0.775000                   0.71250   \n",
      "Test Accuracy                             0.750000                   0.70625   \n",
      "\n",
      "                     rbf (after. param. tuning)  Sigmoid (bef. param. tuning)  \\\n",
      "Training Accuracy                      0.873214                      0.667857   \n",
      "Validation Accuracy                    0.800000                      0.550000   \n",
      "Test Accuracy                          0.756250                      0.643750   \n",
      "\n",
      "                     Sigmoid (after. param. tuning)  \n",
      "Training Accuracy                          0.701786  \n",
      "Validation Accuracy                        0.700000  \n",
      "Test Accuracy                              0.700000  \n"
     ]
    }
   ],
   "source": [
    "accuracy_table = {'Linear (bef. param. tuning)': [accuracy_score(y_train, svc_linear1.predict(X_train)), \n",
    "                                                  accuracy_score(y_val, svc_linear1.predict(X_val)),\n",
    "                                                  accuracy_score(y_test, svc_linear1.predict(X_test))],\n",
    "                  'Linear (after. param. tuning)': [accuracy_score(y_train, svc_linear.predict(X_train)), \n",
    "                                                  accuracy_score(y_val, svc_linear.predict(X_val)),\n",
    "                                                  accuracy_score(y_test, svc_linear.predict(X_test))],\n",
    "                  'rbf (bef. param. tuning)': [accuracy_score(y_train, svc_rbf1.predict(X_train)), \n",
    "                                                  accuracy_score(y_val, svc_rbf1.predict(X_val)),\n",
    "                                                  accuracy_score(y_test, svc_rbf1.predict(X_test))],\n",
    "                  'rbf (after. param. tuning)': [accuracy_score(y_train, svc_rbf.predict(X_train)), \n",
    "                                                  accuracy_score(y_val, svc_rbf.predict(X_val)),\n",
    "                                                  accuracy_score(y_test, svc_rbf.predict(X_test))],\n",
    "                  'Sigmoid (bef. param. tuning)': [accuracy_score(y_train, svc_sig1.predict(X_train)), \n",
    "                                                  accuracy_score(y_val, svc_sig1.predict(X_val)),\n",
    "                                                  accuracy_score(y_test, svc_sig1.predict(X_test))],\n",
    "                 'Sigmoid (after. param. tuning)': [accuracy_score(y_train, svc_sig.predict(X_train)), \n",
    "                                                  accuracy_score(y_val, svc_sig.predict(X_val)),\n",
    "                                                  accuracy_score(y_test, svc_sig.predict(X_test))]}\n",
    "df = pd.DataFrame(accuracy_table, columns = ['Linear (bef. param. tuning)',\n",
    "                                             'Linear (after. param. tuning)',\n",
    "                                            'rbf (bef. param. tuning)',\n",
    "                                            'rbf (after. param. tuning)',\n",
    "                                            'Sigmoid (bef. param. tuning)',\n",
    "                                            'Sigmoid (after. param. tuning)'], index=['Training Accuracy',\n",
    "                                                                                      'Validation Accuracy',\n",
    "                                                                                      'Test Accuracy'])\n",
    "\n",
    "print(df)"
   ]
  },
  {
   "cell_type": "markdown",
   "metadata": {},
   "source": [
    "## Graphical Representation of different SVM Classifiers"
   ]
  },
  {
   "cell_type": "markdown",
   "metadata": {},
   "source": [
    "We have successfully reported the test accuracies for different kernels above. Let's now produce a visual representation of SVM classification for different kernels. \n",
    "\n",
    "Each example has 24 features and we can't represent an example using all 24 features in a graph (would require a 24-D graph!!). Hence, for simplicity, we're considering only 2 features per example and are training a new model using these examples.\n",
    "\n",
    "In our case, we chose the first two features represented by column 0 and column 1 of the original credit dataset."
   ]
  },
  {
   "cell_type": "code",
   "execution_count": 162,
   "metadata": {},
   "outputs": [],
   "source": [
    "credit_data = pd.read_csv(\"SVM_credit_data.txt\", delim_whitespace = True, header = None)\n",
    "#print(credit_data)\n",
    "\n",
    "credit_target = credit_data[24].to_numpy()\n",
    "\n",
    "credit_data1 = credit_data.loc[:, [0, 1]].to_numpy() # Choosing the first two columns/features only\n",
    "#print(credit_data1)"
   ]
  },
  {
   "cell_type": "markdown",
   "metadata": {},
   "source": [
    "We follow the exact same procedure as we did before, i.e, splitting the data into training, validation and test sets, hyperparameter tuning for each kernel, fit the model to the training data using these new parameters and then make predictions on the test set for different kernels."
   ]
  },
  {
   "cell_type": "code",
   "execution_count": 163,
   "metadata": {},
   "outputs": [],
   "source": [
    "X_train, X_test, y_train, y_test = train_test_split(credit_data1, credit_target, test_size=0.2, random_state = 25, shuffle=True, stratify = credit_target)\n",
    "X_train, X_val, y_train, y_val = train_test_split(X_train, y_train, test_size=0.125, random_state = 25, stratify=y_train) # 0.125 x 0.8 = 0.1"
   ]
  },
  {
   "cell_type": "markdown",
   "metadata": {},
   "source": [
    "#### Grid Search for hyperparameters for Linear Kernel"
   ]
  },
  {
   "cell_type": "code",
   "execution_count": 164,
   "metadata": {},
   "outputs": [
    {
     "name": "stdout",
     "output_type": "stream",
     "text": [
      "Fitting 1 folds for each of 6 candidates, totalling 6 fits\n",
      "[CV] C=0.01, kernel=linear ...........................................\n",
      "[CV] ............... C=0.01, kernel=linear, score=0.700, total=   0.0s\n",
      "[CV] C=0.1, kernel=linear ............................................\n",
      "[CV] ................ C=0.1, kernel=linear, score=0.700, total=   0.0s\n",
      "[CV] C=1, kernel=linear ..............................................\n",
      "[CV] .................. C=1, kernel=linear, score=0.700, total=   0.0s\n",
      "[CV] C=10, kernel=linear .............................................\n",
      "[CV] ................. C=10, kernel=linear, score=0.700, total=   0.1s\n",
      "[CV] C=100, kernel=linear ............................................\n"
     ]
    },
    {
     "name": "stderr",
     "output_type": "stream",
     "text": [
      "[Parallel(n_jobs=1)]: Using backend SequentialBackend with 1 concurrent workers.\n",
      "[Parallel(n_jobs=1)]: Done   1 out of   1 | elapsed:    0.0s remaining:    0.0s\n",
      "[Parallel(n_jobs=1)]: Done   2 out of   2 | elapsed:    0.0s remaining:    0.0s\n"
     ]
    },
    {
     "name": "stdout",
     "output_type": "stream",
     "text": [
      "[CV] ................ C=100, kernel=linear, score=0.700, total=   0.4s\n",
      "[CV] C=1000, kernel=linear ...........................................\n",
      "[CV] ............... C=1000, kernel=linear, score=0.700, total=   8.3s\n",
      "{'C': 0.01, 'kernel': 'linear'}\n",
      "SVC(C=0.01, kernel='linear')\n"
     ]
    },
    {
     "name": "stderr",
     "output_type": "stream",
     "text": [
      "[Parallel(n_jobs=1)]: Done   6 out of   6 | elapsed:    8.7s finished\n"
     ]
    }
   ],
   "source": [
    "param_grid = [\n",
    "  {'C': [0.01, 0.1, 1, 10, 100, 1000], 'kernel': ['linear']}]\n",
    "              \n",
    "\n",
    "my_test_fold = []\n",
    "\n",
    "# put -1 here, so they will be in training set\n",
    "for i in range(len(X_train)):\n",
    "    my_test_fold.append(-1)\n",
    "\n",
    "# for all greater indices, assign 0, so they will be put in validation set\n",
    "for i in range(len(X_val)):\n",
    "    my_test_fold.append(0)\n",
    "\n",
    "pds = PredefinedSplit(test_fold = my_test_fold)\n",
    "\n",
    "grid = GridSearchCV(SVC(), param_grid, refit = True, verbose = 3, cv=pds) \n",
    "\n",
    "#param_grid = {'C': [0.1, 1, 10, 100, 1000], 'gamma': [1, 0.1, 0.01, 0.001, 0.0001], 'kernel': ['rbf']}  \n",
    "\n",
    "# fitting the model for grid search \n",
    "grid.fit(np.concatenate((X_train, X_val), axis=0), np.concatenate((y_train, y_val), axis=0))\n",
    "\n",
    "# print best parameter after tuning \n",
    "print(grid.best_params_) \n",
    "  \n",
    "# print how our model looks after hyper-parameter tuning \n",
    "print(grid.best_estimator_)"
   ]
  },
  {
   "cell_type": "markdown",
   "metadata": {},
   "source": [
    "#### SVM - Linear Kernel after hyperparameter tuning"
   ]
  },
  {
   "cell_type": "code",
   "execution_count": 165,
   "metadata": {},
   "outputs": [
    {
     "name": "stdout",
     "output_type": "stream",
     "text": [
      "Validation set accuracy after hyperparameter tuning = 0.7\n",
      "Test set accuracy after hyperparameter tuning = 0.7\n"
     ]
    }
   ],
   "source": [
    "svc_linear = grid.best_estimator_\n",
    "#svc_linear = SVC(C=100, gamma=0.0001, kernel = 'rbf')\n",
    "\n",
    "svc_linear.fit(X_train, y_train)\n",
    "#svc_linear.fit(np.concatenate((X_train, X_val), axis=0), np.concatenate((y_train, y_val), axis=0))\n",
    "\n",
    "\n",
    "SVM_predictions = svc_linear.predict(X_val)\n",
    "print(\"Validation set accuracy after hyperparameter tuning =\", accuracy_score(y_val, SVM_predictions))\n",
    "  \n",
    "# print classification report \n",
    "#print(classification_report(y_val, SVM_predictions))\n",
    "\n",
    "SVM_predictions_test = svc_linear.predict(X_test) \n",
    "print(\"Test set accuracy after hyperparameter tuning =\", accuracy_score(y_test, SVM_predictions_test))"
   ]
  },
  {
   "cell_type": "markdown",
   "metadata": {},
   "source": [
    "#### Grid Search for hyperparameters for rbf Kernel"
   ]
  },
  {
   "cell_type": "code",
   "execution_count": 166,
   "metadata": {},
   "outputs": [
    {
     "name": "stdout",
     "output_type": "stream",
     "text": [
      "Fitting 1 folds for each of 54 candidates, totalling 54 fits\n",
      "[CV] C=0.0001, gamma=1, kernel=rbf ...................................\n",
      "[CV] ....... C=0.0001, gamma=1, kernel=rbf, score=0.700, total=   0.0s\n",
      "[CV] C=0.0001, gamma=0.1, kernel=rbf .................................\n",
      "[CV] ..... C=0.0001, gamma=0.1, kernel=rbf, score=0.700, total=   0.0s\n",
      "[CV] C=0.0001, gamma=0.01, kernel=rbf ................................\n",
      "[CV] .... C=0.0001, gamma=0.01, kernel=rbf, score=0.700, total=   0.0s\n",
      "[CV] C=0.0001, gamma=0.001, kernel=rbf ...............................\n",
      "[CV] ... C=0.0001, gamma=0.001, kernel=rbf, score=0.700, total=   0.0s\n",
      "[CV] C=0.0001, gamma=0.0001, kernel=rbf ..............................\n",
      "[CV] .. C=0.0001, gamma=0.0001, kernel=rbf, score=0.700, total=   0.0s\n",
      "[CV] C=0.0001, gamma=1e-05, kernel=rbf ...............................\n",
      "[CV] ... C=0.0001, gamma=1e-05, kernel=rbf, score=0.700, total=   0.0s\n",
      "[CV] C=0.001, gamma=1, kernel=rbf ....................................\n",
      "[CV] ........ C=0.001, gamma=1, kernel=rbf, score=0.700, total=   0.0s\n",
      "[CV] C=0.001, gamma=0.1, kernel=rbf ..................................\n",
      "[CV] ...... C=0.001, gamma=0.1, kernel=rbf, score=0.700, total=   0.0s\n",
      "[CV] C=0.001, gamma=0.01, kernel=rbf .................................\n",
      "[CV] ..... C=0.001, gamma=0.01, kernel=rbf, score=0.700, total=   0.0s\n",
      "[CV] C=0.001, gamma=0.001, kernel=rbf ................................\n",
      "[CV] .... C=0.001, gamma=0.001, kernel=rbf, score=0.700, total=   0.0s\n",
      "[CV] C=0.001, gamma=0.0001, kernel=rbf ...............................\n",
      "[CV] ... C=0.001, gamma=0.0001, kernel=rbf, score=0.700, total=   0.0s\n",
      "[CV] C=0.001, gamma=1e-05, kernel=rbf ................................\n",
      "[CV] .... C=0.001, gamma=1e-05, kernel=rbf, score=0.700, total=   0.0s\n",
      "[CV] C=0.01, gamma=1, kernel=rbf .....................................\n",
      "[CV] ......... C=0.01, gamma=1, kernel=rbf, score=0.700, total=   0.0s\n",
      "[CV] C=0.01, gamma=0.1, kernel=rbf ...................................\n",
      "[CV] ....... C=0.01, gamma=0.1, kernel=rbf, score=0.700, total=   0.0s\n",
      "[CV] C=0.01, gamma=0.01, kernel=rbf ..................................\n",
      "[CV] ...... C=0.01, gamma=0.01, kernel=rbf, score=0.700, total=   0.0s\n",
      "[CV] C=0.01, gamma=0.001, kernel=rbf .................................\n",
      "[CV] ..... C=0.01, gamma=0.001, kernel=rbf, score=0.700, total=   0.0s\n",
      "[CV] C=0.01, gamma=0.0001, kernel=rbf ................................\n",
      "[CV] .... C=0.01, gamma=0.0001, kernel=rbf, score=0.700, total=   0.0s\n",
      "[CV] C=0.01, gamma=1e-05, kernel=rbf .................................\n",
      "[CV] ..... C=0.01, gamma=1e-05, kernel=rbf, score=0.700, total=   0.0s\n",
      "[CV] C=0.1, gamma=1, kernel=rbf ......................................\n",
      "[CV] .......... C=0.1, gamma=1, kernel=rbf, score=0.700, total=   0.0s\n",
      "[CV] C=0.1, gamma=0.1, kernel=rbf ....................................\n",
      "[CV] ........ C=0.1, gamma=0.1, kernel=rbf, score=0.700, total=   0.0s\n",
      "[CV] C=0.1, gamma=0.01, kernel=rbf ...................................\n",
      "[CV] ....... C=0.1, gamma=0.01, kernel=rbf, score=0.700, total=   0.0s\n",
      "[CV] C=0.1, gamma=0.001, kernel=rbf ..................................\n",
      "[CV] ...... C=0.1, gamma=0.001, kernel=rbf, score=0.700, total=   0.0s\n",
      "[CV] C=0.1, gamma=0.0001, kernel=rbf .................................\n",
      "[CV] ..... C=0.1, gamma=0.0001, kernel=rbf, score=0.700, total=   0.0s\n",
      "[CV] C=0.1, gamma=1e-05, kernel=rbf ..................................\n",
      "[CV] ...... C=0.1, gamma=1e-05, kernel=rbf, score=0.700, total=   0.0s\n",
      "[CV] C=1, gamma=1, kernel=rbf ........................................\n",
      "[CV] ............ C=1, gamma=1, kernel=rbf, score=0.662, total=   0.0s\n",
      "[CV] C=1, gamma=0.1, kernel=rbf ......................................\n",
      "[CV] .......... C=1, gamma=0.1, kernel=rbf, score=0.713, total=   0.0s\n",
      "[CV] C=1, gamma=0.01, kernel=rbf .....................................\n",
      "[CV] ......... C=1, gamma=0.01, kernel=rbf, score=0.713, total=   0.0s\n",
      "[CV] C=1, gamma=0.001, kernel=rbf ....................................\n",
      "[CV] ........ C=1, gamma=0.001, kernel=rbf, score=0.700, total=   0.0s\n",
      "[CV] C=1, gamma=0.0001, kernel=rbf ...................................\n",
      "[CV] ....... C=1, gamma=0.0001, kernel=rbf, score=0.700, total=   0.0s\n",
      "[CV] C=1, gamma=1e-05, kernel=rbf ....................................\n",
      "[CV] ........ C=1, gamma=1e-05, kernel=rbf, score=0.700, total=   0.0s\n",
      "[CV] C=10, gamma=1, kernel=rbf .......................................\n",
      "[CV] ........... C=10, gamma=1, kernel=rbf, score=0.662, total=   0.0s\n",
      "[CV] C=10, gamma=0.1, kernel=rbf .....................................\n",
      "[CV] ......... C=10, gamma=0.1, kernel=rbf, score=0.688, total=   0.0s\n",
      "[CV] C=10, gamma=0.01, kernel=rbf ....................................\n"
     ]
    },
    {
     "name": "stderr",
     "output_type": "stream",
     "text": [
      "[Parallel(n_jobs=1)]: Using backend SequentialBackend with 1 concurrent workers.\n",
      "[Parallel(n_jobs=1)]: Done   1 out of   1 | elapsed:    0.0s remaining:    0.0s\n",
      "[Parallel(n_jobs=1)]: Done   2 out of   2 | elapsed:    0.0s remaining:    0.0s\n"
     ]
    },
    {
     "name": "stdout",
     "output_type": "stream",
     "text": [
      "[CV] ........ C=10, gamma=0.01, kernel=rbf, score=0.700, total=   0.0s\n",
      "[CV] C=10, gamma=0.001, kernel=rbf ...................................\n",
      "[CV] ....... C=10, gamma=0.001, kernel=rbf, score=0.713, total=   0.0s\n",
      "[CV] C=10, gamma=0.0001, kernel=rbf ..................................\n",
      "[CV] ...... C=10, gamma=0.0001, kernel=rbf, score=0.700, total=   0.0s\n",
      "[CV] C=10, gamma=1e-05, kernel=rbf ...................................\n",
      "[CV] ....... C=10, gamma=1e-05, kernel=rbf, score=0.700, total=   0.0s\n",
      "[CV] C=100, gamma=1, kernel=rbf ......................................\n",
      "[CV] .......... C=100, gamma=1, kernel=rbf, score=0.662, total=   0.0s\n",
      "[CV] C=100, gamma=0.1, kernel=rbf ....................................\n",
      "[CV] ........ C=100, gamma=0.1, kernel=rbf, score=0.650, total=   0.0s\n",
      "[CV] C=100, gamma=0.01, kernel=rbf ...................................\n",
      "[CV] ....... C=100, gamma=0.01, kernel=rbf, score=0.713, total=   0.1s\n",
      "[CV] C=100, gamma=0.001, kernel=rbf ..................................\n",
      "[CV] ...... C=100, gamma=0.001, kernel=rbf, score=0.750, total=   0.0s\n",
      "[CV] C=100, gamma=0.0001, kernel=rbf .................................\n",
      "[CV] ..... C=100, gamma=0.0001, kernel=rbf, score=0.700, total=   0.0s\n",
      "[CV] C=100, gamma=1e-05, kernel=rbf ..................................\n",
      "[CV] ...... C=100, gamma=1e-05, kernel=rbf, score=0.700, total=   0.0s\n",
      "[CV] C=1000, gamma=1, kernel=rbf .....................................\n",
      "[CV] ......... C=1000, gamma=1, kernel=rbf, score=0.662, total=   0.0s\n",
      "[CV] C=1000, gamma=0.1, kernel=rbf ...................................\n",
      "[CV] ....... C=1000, gamma=0.1, kernel=rbf, score=0.637, total=   0.0s\n",
      "[CV] C=1000, gamma=0.01, kernel=rbf ..................................\n",
      "[CV] ...... C=1000, gamma=0.01, kernel=rbf, score=0.688, total=   0.8s\n",
      "[CV] C=1000, gamma=0.001, kernel=rbf .................................\n",
      "[CV] ..... C=1000, gamma=0.001, kernel=rbf, score=0.750, total=   0.0s\n",
      "[CV] C=1000, gamma=0.0001, kernel=rbf ................................\n",
      "[CV] .... C=1000, gamma=0.0001, kernel=rbf, score=0.762, total=   0.0s\n",
      "[CV] C=1000, gamma=1e-05, kernel=rbf .................................\n",
      "[CV] ..... C=1000, gamma=1e-05, kernel=rbf, score=0.700, total=   0.0s\n",
      "[CV] C=10000, gamma=1, kernel=rbf ....................................\n",
      "[CV] ........ C=10000, gamma=1, kernel=rbf, score=0.662, total=   0.0s\n",
      "[CV] C=10000, gamma=0.1, kernel=rbf ..................................\n",
      "[CV] ...... C=10000, gamma=0.1, kernel=rbf, score=0.637, total=   0.0s\n",
      "[CV] C=10000, gamma=0.01, kernel=rbf .................................\n",
      "[CV] ..... C=10000, gamma=0.01, kernel=rbf, score=0.650, total=   4.6s\n",
      "[CV] C=10000, gamma=0.001, kernel=rbf ................................\n",
      "[CV] .... C=10000, gamma=0.001, kernel=rbf, score=0.713, total=   0.3s\n",
      "[CV] C=10000, gamma=0.0001, kernel=rbf ...............................\n",
      "[CV] ... C=10000, gamma=0.0001, kernel=rbf, score=0.750, total=   0.1s\n",
      "[CV] C=10000, gamma=1e-05, kernel=rbf ................................\n",
      "[CV] .... C=10000, gamma=1e-05, kernel=rbf, score=0.700, total=   0.0s\n",
      "{'C': 1000, 'gamma': 0.0001, 'kernel': 'rbf'}\n",
      "SVC(C=1000, gamma=0.0001)\n"
     ]
    },
    {
     "name": "stderr",
     "output_type": "stream",
     "text": [
      "[Parallel(n_jobs=1)]: Done  54 out of  54 | elapsed:    6.3s finished\n"
     ]
    }
   ],
   "source": [
    "#Grid Search for rbf kernel\n",
    "\n",
    "param_grid = {'C': [0.0001, 0.001, 0.01, 0.1, 1, 10, 100, 1000, 10000], 'gamma': [1, 0.1, 0.01, 0.001, 0.0001, 0.00001], 'kernel': ['rbf']}\n",
    "\n",
    "my_test_fold = []\n",
    "\n",
    "# put -1 here, so they will be in training set\n",
    "for i in range(len(X_train)):\n",
    "    my_test_fold.append(-1)\n",
    "\n",
    "# for all greater indices, assign 0, so they will be put in validation set\n",
    "for i in range(len(X_val)):\n",
    "    my_test_fold.append(0)\n",
    "\n",
    "pds = PredefinedSplit(test_fold = my_test_fold)\n",
    "\n",
    "grid = GridSearchCV(SVC(), param_grid, refit = True, verbose = 3, cv=pds) \n",
    "\n",
    "#param_grid = {'C': [0.1, 1, 10, 100, 1000], 'gamma': [1, 0.1, 0.01, 0.001, 0.0001], 'kernel': ['rbf']}  \n",
    "\n",
    "# fitting the model for grid search \n",
    "grid.fit(np.concatenate((X_train, X_val), axis=0), np.concatenate((y_train, y_val), axis=0))\n",
    "\n",
    "\n",
    "# print best parameter after tuning \n",
    "print(grid.best_params_) \n",
    "  \n",
    "# print how our model looks after hyper-parameter tuning \n",
    "print(grid.best_estimator_)"
   ]
  },
  {
   "cell_type": "markdown",
   "metadata": {},
   "source": [
    "#### SVM - rbf kernel after hyperparameter tuning"
   ]
  },
  {
   "cell_type": "code",
   "execution_count": 167,
   "metadata": {},
   "outputs": [
    {
     "name": "stdout",
     "output_type": "stream",
     "text": [
      "Validation set accuracy after hyperparameter tuning = 0.7625\n",
      "Test set accuracy after hyperparameter tuning = 0.74375\n"
     ]
    }
   ],
   "source": [
    "svc_rbf = grid.best_estimator_\n",
    "#svc_linear = SVC(C=100, gamma=0.0001, kernel = 'rbf')\n",
    "\n",
    "svc_rbf.fit(X_train, y_train)\n",
    "#svc_linear.fit(np.concatenate((X_train, X_val), axis=0), np.concatenate((y_train, y_val), axis=0))\n",
    "\n",
    "\n",
    "SVM_predictions = svc_rbf.predict(X_val)\n",
    "print(\"Validation set accuracy after hyperparameter tuning =\", accuracy_score(y_val, SVM_predictions))\n",
    "  \n",
    "# print classification report \n",
    "#print(classification_report(y_val, SVM_predictions))\n",
    "\n",
    "SVM_predictions_test = svc_rbf.predict(X_test) \n",
    "print(\"Test set accuracy after hyperparameter tuning =\", accuracy_score(y_test, SVM_predictions_test))"
   ]
  },
  {
   "cell_type": "markdown",
   "metadata": {},
   "source": [
    "#### Grid Search for hyperparameters for Sigmoid Kernel"
   ]
  },
  {
   "cell_type": "code",
   "execution_count": 168,
   "metadata": {},
   "outputs": [
    {
     "name": "stdout",
     "output_type": "stream",
     "text": [
      "Fitting 1 folds for each of 54 candidates, totalling 54 fits\n",
      "[CV] C=0.0001, gamma=1, kernel=sigmoid ...............................\n",
      "[CV] ... C=0.0001, gamma=1, kernel=sigmoid, score=0.700, total=   0.0s\n",
      "[CV] C=0.0001, gamma=0.1, kernel=sigmoid .............................\n",
      "[CV] . C=0.0001, gamma=0.1, kernel=sigmoid, score=0.700, total=   0.0s\n",
      "[CV] C=0.0001, gamma=0.01, kernel=sigmoid ............................\n",
      "[CV]  C=0.0001, gamma=0.01, kernel=sigmoid, score=0.700, total=   0.0s\n",
      "[CV] C=0.0001, gamma=0.001, kernel=sigmoid ...........................\n",
      "[CV]  C=0.0001, gamma=0.001, kernel=sigmoid, score=0.700, total=   0.0s\n",
      "[CV] C=0.0001, gamma=0.0001, kernel=sigmoid ..........................\n",
      "[CV]  C=0.0001, gamma=0.0001, kernel=sigmoid, score=0.700, total=   0.0s\n",
      "[CV] C=0.0001, gamma=1e-05, kernel=sigmoid ...........................\n",
      "[CV]  C=0.0001, gamma=1e-05, kernel=sigmoid, score=0.700, total=   0.0s\n",
      "[CV] C=0.001, gamma=1, kernel=sigmoid ................................\n",
      "[CV] .... C=0.001, gamma=1, kernel=sigmoid, score=0.700, total=   0.0s\n",
      "[CV] C=0.001, gamma=0.1, kernel=sigmoid ..............................\n",
      "[CV] .. C=0.001, gamma=0.1, kernel=sigmoid, score=0.700, total=   0.0s\n",
      "[CV] C=0.001, gamma=0.01, kernel=sigmoid .............................\n",
      "[CV] . C=0.001, gamma=0.01, kernel=sigmoid, score=0.700, total=   0.0s\n",
      "[CV] C=0.001, gamma=0.001, kernel=sigmoid ............................\n",
      "[CV]  C=0.001, gamma=0.001, kernel=sigmoid, score=0.700, total=   0.0s\n",
      "[CV] C=0.001, gamma=0.0001, kernel=sigmoid ...........................\n",
      "[CV]  C=0.001, gamma=0.0001, kernel=sigmoid, score=0.700, total=   0.0s\n",
      "[CV] C=0.001, gamma=1e-05, kernel=sigmoid ............................\n",
      "[CV]  C=0.001, gamma=1e-05, kernel=sigmoid, score=0.700, total=   0.0s\n",
      "[CV] C=0.01, gamma=1, kernel=sigmoid .................................\n",
      "[CV] ..... C=0.01, gamma=1, kernel=sigmoid, score=0.700, total=   0.0s\n",
      "[CV] C=0.01, gamma=0.1, kernel=sigmoid ...............................\n",
      "[CV] ... C=0.01, gamma=0.1, kernel=sigmoid, score=0.700, total=   0.0s\n",
      "[CV] C=0.01, gamma=0.01, kernel=sigmoid ..............................\n",
      "[CV] .. C=0.01, gamma=0.01, kernel=sigmoid, score=0.700, total=   0.0s\n",
      "[CV] C=0.01, gamma=0.001, kernel=sigmoid .............................\n",
      "[CV] . C=0.01, gamma=0.001, kernel=sigmoid, score=0.700, total=   0.0s\n",
      "[CV] C=0.01, gamma=0.0001, kernel=sigmoid ............................\n",
      "[CV]  C=0.01, gamma=0.0001, kernel=sigmoid, score=0.700, total=   0.0s\n",
      "[CV] C=0.01, gamma=1e-05, kernel=sigmoid .............................\n",
      "[CV] . C=0.01, gamma=1e-05, kernel=sigmoid, score=0.700, total=   0.0s\n",
      "[CV] C=0.1, gamma=1, kernel=sigmoid ..................................\n",
      "[CV] ...... C=0.1, gamma=1, kernel=sigmoid, score=0.700, total=   0.0s\n",
      "[CV] C=0.1, gamma=0.1, kernel=sigmoid ................................\n",
      "[CV] .... C=0.1, gamma=0.1, kernel=sigmoid, score=0.700, total=   0.0s\n",
      "[CV] C=0.1, gamma=0.01, kernel=sigmoid ...............................\n",
      "[CV] ... C=0.1, gamma=0.01, kernel=sigmoid, score=0.575, total=   0.0s\n",
      "[CV] C=0.1, gamma=0.001, kernel=sigmoid ..............................\n",
      "[CV] .. C=0.1, gamma=0.001, kernel=sigmoid, score=0.700, total=   0.0s\n",
      "[CV] C=0.1, gamma=0.0001, kernel=sigmoid .............................\n",
      "[CV] . C=0.1, gamma=0.0001, kernel=sigmoid, score=0.700, total=   0.0s\n",
      "[CV] C=0.1, gamma=1e-05, kernel=sigmoid ..............................\n",
      "[CV] .. C=0.1, gamma=1e-05, kernel=sigmoid, score=0.700, total=   0.0s\n",
      "[CV] C=1, gamma=1, kernel=sigmoid ....................................\n",
      "[CV] ........ C=1, gamma=1, kernel=sigmoid, score=0.700, total=   0.0s\n",
      "[CV] C=1, gamma=0.1, kernel=sigmoid ..................................\n",
      "[CV] ...... C=1, gamma=0.1, kernel=sigmoid, score=0.700, total=   0.0s\n",
      "[CV] C=1, gamma=0.01, kernel=sigmoid .................................\n",
      "[CV] ..... C=1, gamma=0.01, kernel=sigmoid, score=0.562, total=   0.0s\n",
      "[CV] C=1, gamma=0.001, kernel=sigmoid ................................\n",
      "[CV] .... C=1, gamma=0.001, kernel=sigmoid, score=0.700, total=   0.0s\n",
      "[CV] C=1, gamma=0.0001, kernel=sigmoid ...............................\n",
      "[CV] ... C=1, gamma=0.0001, kernel=sigmoid, score=0.700, total=   0.0s\n",
      "[CV] C=1, gamma=1e-05, kernel=sigmoid ................................\n",
      "[CV] .... C=1, gamma=1e-05, kernel=sigmoid, score=0.700, total=   0.0s\n",
      "[CV] C=10, gamma=1, kernel=sigmoid ...................................\n",
      "[CV] ....... C=10, gamma=1, kernel=sigmoid, score=0.700, total=   0.0s\n",
      "[CV] C=10, gamma=0.1, kernel=sigmoid .................................\n",
      "[CV] ..... C=10, gamma=0.1, kernel=sigmoid, score=0.688, total=   0.0s\n",
      "[CV] C=10, gamma=0.01, kernel=sigmoid ................................\n",
      "[CV] .... C=10, gamma=0.01, kernel=sigmoid, score=0.562, total=   0.0s\n",
      "[CV] C=10, gamma=0.001, kernel=sigmoid ...............................\n",
      "[CV] ... C=10, gamma=0.001, kernel=sigmoid, score=0.600, total=   0.0s\n",
      "[CV] C=10, gamma=0.0001, kernel=sigmoid ..............................\n",
      "[CV] .. C=10, gamma=0.0001, kernel=sigmoid, score=0.700, total=   0.0s\n",
      "[CV] C=10, gamma=1e-05, kernel=sigmoid ...............................\n"
     ]
    },
    {
     "name": "stderr",
     "output_type": "stream",
     "text": [
      "[Parallel(n_jobs=1)]: Using backend SequentialBackend with 1 concurrent workers.\n",
      "[Parallel(n_jobs=1)]: Done   1 out of   1 | elapsed:    0.0s remaining:    0.0s\n",
      "[Parallel(n_jobs=1)]: Done   2 out of   2 | elapsed:    0.0s remaining:    0.0s\n"
     ]
    },
    {
     "name": "stdout",
     "output_type": "stream",
     "text": [
      "[CV] ... C=10, gamma=1e-05, kernel=sigmoid, score=0.700, total=   0.0s\n",
      "[CV] C=100, gamma=1, kernel=sigmoid ..................................\n",
      "[CV] ...... C=100, gamma=1, kernel=sigmoid, score=0.700, total=   0.0s\n",
      "[CV] C=100, gamma=0.1, kernel=sigmoid ................................\n",
      "[CV] .... C=100, gamma=0.1, kernel=sigmoid, score=0.613, total=   0.0s\n",
      "[CV] C=100, gamma=0.01, kernel=sigmoid ...............................\n",
      "[CV] ... C=100, gamma=0.01, kernel=sigmoid, score=0.562, total=   0.0s\n",
      "[CV] C=100, gamma=0.001, kernel=sigmoid ..............................\n",
      "[CV] .. C=100, gamma=0.001, kernel=sigmoid, score=0.600, total=   0.0s\n",
      "[CV] C=100, gamma=0.0001, kernel=sigmoid .............................\n",
      "[CV] . C=100, gamma=0.0001, kernel=sigmoid, score=0.725, total=   0.0s\n",
      "[CV] C=100, gamma=1e-05, kernel=sigmoid ..............................\n",
      "[CV] .. C=100, gamma=1e-05, kernel=sigmoid, score=0.700, total=   0.0s\n",
      "[CV] C=1000, gamma=1, kernel=sigmoid .................................\n",
      "[CV] ..... C=1000, gamma=1, kernel=sigmoid, score=0.700, total=   0.0s\n",
      "[CV] C=1000, gamma=0.1, kernel=sigmoid ...............................\n",
      "[CV] ... C=1000, gamma=0.1, kernel=sigmoid, score=0.575, total=   0.0s\n",
      "[CV] C=1000, gamma=0.01, kernel=sigmoid ..............................\n",
      "[CV] .. C=1000, gamma=0.01, kernel=sigmoid, score=0.562, total=   0.0s\n",
      "[CV] C=1000, gamma=0.001, kernel=sigmoid .............................\n",
      "[CV] . C=1000, gamma=0.001, kernel=sigmoid, score=0.600, total=   0.0s\n",
      "[CV] C=1000, gamma=0.0001, kernel=sigmoid ............................\n",
      "[CV]  C=1000, gamma=0.0001, kernel=sigmoid, score=0.613, total=   0.0s\n",
      "[CV] C=1000, gamma=1e-05, kernel=sigmoid .............................\n",
      "[CV] . C=1000, gamma=1e-05, kernel=sigmoid, score=0.700, total=   0.0s\n",
      "[CV] C=10000, gamma=1, kernel=sigmoid ................................\n",
      "[CV] .... C=10000, gamma=1, kernel=sigmoid, score=0.700, total=   0.0s\n",
      "[CV] C=10000, gamma=0.1, kernel=sigmoid ..............................\n",
      "[CV] .. C=10000, gamma=0.1, kernel=sigmoid, score=0.588, total=   0.0s\n",
      "[CV] C=10000, gamma=0.01, kernel=sigmoid .............................\n",
      "[CV] . C=10000, gamma=0.01, kernel=sigmoid, score=0.562, total=   0.0s\n",
      "[CV] C=10000, gamma=0.001, kernel=sigmoid ............................\n",
      "[CV]  C=10000, gamma=0.001, kernel=sigmoid, score=0.600, total=   0.0s\n",
      "[CV] C=10000, gamma=0.0001, kernel=sigmoid ...........................\n",
      "[CV]  C=10000, gamma=0.0001, kernel=sigmoid, score=0.625, total=   0.0s\n",
      "[CV] C=10000, gamma=1e-05, kernel=sigmoid ............................\n",
      "[CV]  C=10000, gamma=1e-05, kernel=sigmoid, score=0.700, total=   0.0s\n",
      "{'C': 100, 'gamma': 0.0001, 'kernel': 'sigmoid'}\n",
      "SVC(C=100, gamma=0.0001, kernel='sigmoid')\n"
     ]
    },
    {
     "name": "stderr",
     "output_type": "stream",
     "text": [
      "[Parallel(n_jobs=1)]: Done  54 out of  54 | elapsed:    0.2s finished\n"
     ]
    }
   ],
   "source": [
    "# Grid Search for Sigmoid\n",
    "\n",
    "param_grid = {'C': [0.0001, 0.001, 0.01, 0.1, 1, 10, 100, 1000, 10000], 'gamma': [1, 0.1, 0.01, 0.001, 0.0001, 0.00001], 'kernel': ['sigmoid']}\n",
    "\n",
    "my_test_fold = []\n",
    "\n",
    "# put -1 here, so they will be in training set\n",
    "for i in range(len(X_train)):\n",
    "    my_test_fold.append(-1)\n",
    "\n",
    "# for all greater indices, assign 0, so they will be put in validation set\n",
    "for i in range(len(X_val)):\n",
    "    my_test_fold.append(0)\n",
    "\n",
    "pds = PredefinedSplit(test_fold = my_test_fold)\n",
    "\n",
    "grid = GridSearchCV(SVC(), param_grid, refit = True, verbose = 3, cv=pds) \n",
    "\n",
    "#param_grid = {'C': [0.1, 1, 10, 100, 1000], 'gamma': [1, 0.1, 0.01, 0.001, 0.0001], 'kernel': ['rbf']}  \n",
    "\n",
    "# fitting the model for grid search \n",
    "grid.fit(np.concatenate((X_train, X_val), axis=0), np.concatenate((y_train, y_val), axis=0))\n",
    "\n",
    "# print best parameter after tuning \n",
    "print(grid.best_params_) \n",
    "  \n",
    "# print how our model looks after hyper-parameter tuning \n",
    "print(grid.best_estimator_)\n"
   ]
  },
  {
   "cell_type": "markdown",
   "metadata": {},
   "source": [
    "#### SVM - Sigmoid kernel after hyperparameter tuning"
   ]
  },
  {
   "cell_type": "code",
   "execution_count": 169,
   "metadata": {},
   "outputs": [
    {
     "name": "stdout",
     "output_type": "stream",
     "text": [
      "Validation set accuracy after hyperparameter tuning = 0.725\n",
      "Test set accuracy after hyperparameter tuning = 0.71875\n"
     ]
    }
   ],
   "source": [
    "svc_sig = grid.best_estimator_\n",
    "#svc_linear = SVC(C=100, gamma=0.0001, kernel = 'rbf')\n",
    "\n",
    "svc_sig.fit(X_train, y_train)\n",
    "#svc_linear.fit(np.concatenate((X_train, X_val), axis=0), np.concatenate((y_train, y_val), axis=0))\n",
    "\n",
    "\n",
    "SVM_predictions = svc_sig.predict(X_val)\n",
    "print(\"Validation set accuracy after hyperparameter tuning =\", accuracy_score(y_val, SVM_predictions))\n",
    "# print classification report \n",
    "#print(classification_report(y_val, SVM_predictions))\n",
    "\n",
    "SVM_predictions_test = svc_sig.predict(X_test) \n",
    "print(\"Test set accuracy after hyperparameter tuning =\", accuracy_score(y_test, SVM_predictions_test))"
   ]
  },
  {
   "cell_type": "markdown",
   "metadata": {},
   "source": [
    "Now that we're done training our model and evaluating its performance on the test data, it is time to graphically represent how our classifiers are performing on the test data for different kernels."
   ]
  },
  {
   "cell_type": "code",
   "execution_count": 170,
   "metadata": {},
   "outputs": [
    {
     "data": {
      "image/png": "[encoded data removed]",
      "text/plain": [
       "<Figure size 432x288 with 3 Axes>"
      ]
     },
     "metadata": {},
     "output_type": "display_data"
    }
   ],
   "source": [
    "h = .02  # step size in the mesh\n",
    "\n",
    "# create a mesh to plot in\n",
    "x_min, x_max = X_test[:, 0].min() - 1, X_test[:, 0].max() + 1\n",
    "y_min, y_max = X_test[:, 1].min() - 1, X_test[:, 1].max() + 1\n",
    "xx, yy = np.meshgrid(np.arange(x_min, x_max, h),\n",
    "                     np.arange(y_min, y_max, h))\n",
    "\n",
    "# title for the plots\n",
    "titles = ['SVC with linear kernel',\n",
    "          'SVC with RBF kernel',\n",
    "          'SVC with sigmoid kernel']\n",
    "\n",
    "for i, clf in enumerate((svc_linear, svc_rbf, svc_sig)):\n",
    "    # Plot the decision boundary. For that, we will assign a color to each\n",
    "    # point in the mesh [x_min, x_max]x[y_min, y_max].\n",
    "    plt.subplot(2, 2, i + 1)\n",
    "    plt.subplots_adjust(wspace=0.4, hspace=0.4)\n",
    "\n",
    "    Z = clf.predict(np.c_[xx.ravel(), yy.ravel()])\n",
    "\n",
    "    # Put the result into a color plot\n",
    "    Z = Z.reshape(xx.shape)\n",
    "    plt.contourf(xx, yy, Z, cmap=plt.cm.coolwarm, alpha=0.8)\n",
    "\n",
    "    # Plot the test points\n",
    "    plt.scatter(X_test[:, 0], X_test[:, 1], c=y_test, cmap=plt.cm.coolwarm)\n",
    "    plt.xlabel('Feature 0')\n",
    "    plt.ylabel('Feature 1')\n",
    "    plt.xlim(xx.min(), xx.max())\n",
    "    plt.ylim(yy.min(), yy.max())\n",
    "    plt.xticks(())\n",
    "    plt.yticks(())\n",
    "    plt.title(titles[i])\n",
    "\n",
    "plt.show()"
   ]
  },
  {
   "cell_type": "markdown",
   "metadata": {},
   "source": [
    "From the above plots, it can be observed that the **rbf kernel** does a better job than the sigmoid and linear kernels in classifying the datapoints into their respective classes for features 0 and 1.\n",
    "\n",
    "There doesn't appear to be any decision boundary for the linear SVM classifier (or it might be superimposed on the x-axis or y-axis, which might be the best linear decision boundary the SVM could find)"
   ]
  },
  {
   "cell_type": "code",
   "execution_count": 171,
   "metadata": {},
   "outputs": [
    {
     "name": "stdout",
     "output_type": "stream",
     "text": [
      "Test set accuracy using linear kernel = 0.7\n",
      "Test set accuracy using rbf kernel = 0.74375\n",
      "Test set accuracy using sigmoid kernel = 0.71875\n"
     ]
    }
   ],
   "source": [
    "print(\"Test set accuracy using linear kernel =\", accuracy_score(y_test, svc_linear.predict(X_test)))\n",
    "print(\"Test set accuracy using rbf kernel =\", accuracy_score(y_test, svc_rbf.predict(X_test)))\n",
    "print(\"Test set accuracy using sigmoid kernel =\", accuracy_score(y_test, svc_sig.predict(X_test)))"
   ]
  }
 ],
 "metadata": {
  "kernelspec": {
   "display_name": "Python 3",
   "language": "python",
   "name": "python3"
  },
  "language_info": {
   "codemirror_mode": {
    "name": "ipython",
    "version": 3
   },
   "file_extension": ".py",
   "mimetype": "text/x-python",
   "name": "python",
   "nbconvert_exporter": "python",
   "pygments_lexer": "ipython3",
   "version": "3.8.3"
  }
 },
 "nbformat": 4,
 "nbformat_minor": 4
}
